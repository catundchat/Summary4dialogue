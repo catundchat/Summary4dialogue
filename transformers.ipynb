{
  "nbformat": 4,
  "nbformat_minor": 0,
  "metadata": {
    "colab": {
      "provenance": [],
      "authorship_tag": "ABX9TyP34CfTEB0x5FRl7GdrU61W",
      "include_colab_link": true
    },
    "kernelspec": {
      "name": "python3",
      "display_name": "Python 3"
    },
    "language_info": {
      "name": "python"
    }
  },
  "cells": [
    {
      "cell_type": "markdown",
      "metadata": {
        "id": "view-in-github",
        "colab_type": "text"
      },
      "source": [
        "<a href=\"https://colab.research.google.com/github/catundchat/Summary4dialogue/blob/main/transformers.ipynb\" target=\"_parent\"><img src=\"https://colab.research.google.com/assets/colab-badge.svg\" alt=\"Open In Colab\"/></a>"
      ]
    },
    {
      "cell_type": "code",
      "execution_count": null,
      "metadata": {
        "id": "9RC-d-GAQmuK"
      },
      "outputs": [],
      "source": [
        "!pip install transformers\n",
        "!pip install sentencepiece\n",
        "!nvidia-smi"
      ]
    },
    {
      "cell_type": "code",
      "source": [
        "import transformers\n",
        "import re\n",
        "from transformers import AutoTokenizer, AutoModelForSeq2SeqLM\n",
        "\n",
        "tokenizer = AutoTokenizer.from_pretrained(\"google/mt5-large\")\n",
        "\n",
        "model = AutoModelForSeq2SeqLM.from_pretrained(\"google/mt5-large\")\n",
        "\n",
        "# Get the conversation that you want to summarize\n",
        "conversation = '''\n",
        "情绪问题\n",
        "\n",
        "好的，你最近有什么情绪问题吗？比如说，你是否经常感到沮丧、焦虑或者压力很大？\n",
        "\n",
        "控制不住自己情绪怎么办\n",
        "\n",
        "我理解你的感受。控制不住自己的情绪可能会让人感到无助和困惑。我想问一下，你最近有遇到什么事情让你感到情绪失控吗？\n",
        "\n",
        "失恋\n",
        "\n",
        "失恋是一件很痛苦的事情，我能理解你现在的情绪。你可以告诉我更多关于你失恋的情况吗？比如说，你们分手的原因是什么？你现在的情绪是什么样的？\n",
        "'''\n",
        "\n",
        "# Convert the conversation to tensor using tokenizer\n",
        "input_ids = tokenizer.encode(conversation, return_tensors='pt')\n",
        "\n",
        "# Summarize the conversation\n",
        "if len(conversation)<100:\n",
        "  summary_length = len(conversation)//2.5\n",
        "  summary = model.generate(\n",
        "    input_ids, \n",
        "    max_length=summary_length, \n",
        "    num_return_sequences=1, \n",
        "    length_penalty=1.25, \n",
        "    no_repeat_ngram_size=2,\n",
        "    temperature = 1.0,\n",
        "    top_k = 30\n",
        "    )\n",
        "elif 100<=len(conversation)<500:\n",
        "  summary_length = len(conversation)//3.33\n",
        "  summary = model.generate(\n",
        "    input_ids, \n",
        "    max_length=summary_length, \n",
        "    num_return_sequences=1, \n",
        "    length_penalty=1.25, \n",
        "    no_repeat_ngram_size=2,\n",
        "    temperature = 1.0,\n",
        "    top_k = 35\n",
        "    )\n",
        "elif 500<=len(conversation)<1000:\n",
        "  summary_length = len(conversation)//4\n",
        "  summary = model.generate(\n",
        "    input_ids, \n",
        "    max_length=summary_length, \n",
        "    num_return_sequences=1, \n",
        "    length_penalty=1.5, \n",
        "    no_repeat_ngram_size=2,\n",
        "    temperature = 1.0,\n",
        "    top_k = 60\n",
        "    )\n",
        "else:\n",
        "  summary_length = len(conversation)//4\n",
        "  summary = model.generate(\n",
        "    input_ids, \n",
        "    max_length=summary_length, \n",
        "    num_return_sequences=1, \n",
        "    length_penalty=1.5, \n",
        "    no_repeat_ngram_size=2,\n",
        "    temperature = 1.0,\n",
        "    top_k = 100\n",
        "    )\n",
        "\n",
        "# Decode the summary using tokenizer and remove special tokens\n",
        "summary_text = tokenizer.decode(summary[0], skip_special_tokens=True)\n",
        "summary_text = re.sub(\"extra_id_[0-9]+\", \"\", summary_text).strip()\n",
        "\n",
        "# print(summary_text)\n",
        "# extract content between two <>\n",
        "# result = summary_text.split(\"<>\")[1].split(\"<\")[0]\n",
        "result = summary_text.split(\"<>\")[1].split(\"<\")[0].strip().replace(\",\", \"\").replace(\" \", \"\")\n",
        "\n",
        "# output\n",
        "print(result)"
      ],
      "metadata": {
        "id": "qLsoAkwxQo1_"
      },
      "execution_count": null,
      "outputs": []
    }
  ]
}
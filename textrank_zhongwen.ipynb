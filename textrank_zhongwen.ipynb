{
  "nbformat": 4,
  "nbformat_minor": 0,
  "metadata": {
    "colab": {
      "provenance": [],
      "authorship_tag": "ABX9TyM6ta94MQILUZmr8DVKohd8",
      "include_colab_link": true
    },
    "kernelspec": {
      "name": "python3",
      "display_name": "Python 3"
    },
    "language_info": {
      "name": "python"
    }
  },
  "cells": [
    {
      "cell_type": "markdown",
      "metadata": {
        "id": "view-in-github",
        "colab_type": "text"
      },
      "source": [
        "<a href=\"https://colab.research.google.com/github/catundchat/Summary4dialogue/blob/main/textrank_zhongwen.ipynb\" target=\"_parent\"><img src=\"https://colab.research.google.com/assets/colab-badge.svg\" alt=\"Open In Colab\"/></a>"
      ]
    },
    {
      "cell_type": "code",
      "execution_count": 1,
      "metadata": {
        "colab": {
          "base_uri": "https://localhost:8080/"
        },
        "id": "UXV3bk6Wc-M8",
        "outputId": "57873062-e78a-4587-9cbd-4754fb0c2722"
      },
      "outputs": [
        {
          "output_type": "stream",
          "name": "stdout",
          "text": [
            "Looking in indexes: https://pypi.org/simple, https://us-python.pkg.dev/colab-wheels/public/simple/\n",
            "Collecting textrank4zh\n",
            "  Downloading textrank4zh-0.3.zip (13 kB)\n",
            "  Preparing metadata (setup.py) ... \u001b[?25l\u001b[?25hdone\n",
            "Requirement already satisfied: jieba>=0.35 in /usr/local/lib/python3.9/dist-packages (from textrank4zh) (0.42.1)\n",
            "Requirement already satisfied: numpy>=1.7.1 in /usr/local/lib/python3.9/dist-packages (from textrank4zh) (1.22.4)\n",
            "Requirement already satisfied: networkx>=1.9.1 in /usr/local/lib/python3.9/dist-packages (from textrank4zh) (3.1)\n",
            "Building wheels for collected packages: textrank4zh\n",
            "  Building wheel for textrank4zh (setup.py) ... \u001b[?25l\u001b[?25hdone\n",
            "  Created wheel for textrank4zh: filename=textrank4zh-0.3-py3-none-any.whl size=13419 sha256=e3f16349cccb53a146688f738b6a057f2e034aecb86ab2b91a309e214d890d9e\n",
            "  Stored in directory: /root/.cache/pip/wheels/cd/f5/7d/ba97937cf9a768026adf5b1626f344485897491c46f6f45989\n",
            "Successfully built textrank4zh\n",
            "Installing collected packages: textrank4zh\n",
            "Successfully installed textrank4zh-0.3\n",
            "Found existing installation: networkx 3.1\n",
            "Uninstalling networkx-3.1:\n",
            "  Successfully uninstalled networkx-3.1\n",
            "Looking in indexes: https://pypi.org/simple, https://us-python.pkg.dev/colab-wheels/public/simple/\n",
            "Collecting networkx==2.8.0\n",
            "  Downloading networkx-2.8-py3-none-any.whl (2.0 MB)\n",
            "\u001b[2K     \u001b[90m━━━━━━━━━━━━━━━━━━━━━━━━━━━━━━━━━━━━━━━━\u001b[0m \u001b[32m2.0/2.0 MB\u001b[0m \u001b[31m19.5 MB/s\u001b[0m eta \u001b[36m0:00:00\u001b[0m\n",
            "\u001b[?25hInstalling collected packages: networkx\n",
            "Successfully installed networkx-2.8\n"
          ]
        }
      ],
      "source": [
        "!pip install textrank4zh\n",
        "!pip uninstall networkx --yes\n",
        "!pip install networkx==2.8.0"
      ]
    },
    {
      "cell_type": "code",
      "source": [
        "from __future__ import print_function\n",
        "import sys\n",
        "try:\n",
        "    reload(sys)\n",
        "    sys.setdefaultencoding('utf-8')\n",
        "except:\n",
        "    pass\n",
        "\n",
        "import codecs\n",
        "from textrank4zh import TextRank4Keyword, TextRank4Sentence\n",
        "\n",
        "# text = codecs.open('../yubo/document/test.docx', 'r', 'utf-8').read() # if we use txt or other docs, plz use this format.\n",
        "text = '''\n",
        "情绪问题\n",
        "\n",
        "好的，你最近有什么情绪问题吗？比如说，你是否经常感到沮丧、焦虑或者压力很大？\n",
        "\n",
        "控制不住自己情绪怎么办\n",
        "\n",
        "我理解你的感受。控制不住自己的情绪可能会让人感到无助和困惑。我想问一下，你最近有遇到什么事情让你感到情绪失控吗？\n",
        "\n",
        "失恋\n",
        "\n",
        "失恋是一件很痛苦的事情，我能理解你现在的情绪。你可以告诉我更多关于你失恋的情况吗？比如说，你们分手的原因是什么？你现在的情绪是什么样的？\n",
        "'''\n",
        "# tr4w = TextRank4Keyword()\n",
        "# tr4w.analyze(text=text, lower=True, window=2)  # py2中text必须是utf8编码的str或者unicode对象，py3中必须是utf8编码的bytes或者str对象\n",
        "\n",
        "# print( '关键词：' )\n",
        "# for item in tr4w.get_keywords(20, word_min_len=1):\n",
        "#     print(item.word, item.weight) \n",
        "\n",
        "# print()\n",
        "# print( '关键句：' )\n",
        "# for phrase in tr4w.get_keyphrases(keywords_num=20, min_occur_num= 2):\n",
        "#     print(phrase)\n",
        "\n",
        "tr4s = TextRank4Sentence()\n",
        "tr4s.analyze(text=text, lower=True, source = 'all_filters')\n",
        "n_sent = len(tr4s.sentences)\n",
        "\n",
        "print( '摘要：' )\n",
        "# for item in tr4s.get_key_sentences(num=3):\n",
        "#     # print(item.index, item.weight, item.sentence)  # index is the position in sentences\n",
        "#     print(item.sentence,end=\" \")\n",
        "\n",
        "for item in tr4s.get_key_sentences(num=int(n_sent/5)):\n",
        "    print(item.sentence, end=\" \")"
      ],
      "metadata": {
        "colab": {
          "base_uri": "https://localhost:8080/"
        },
        "id": "yRjrVj2tdDy4",
        "outputId": "99158a79-e9a2-4785-db26-00c3ba9f91e0"
      },
      "execution_count": 2,
      "outputs": [
        {
          "output_type": "stream",
          "name": "stderr",
          "text": [
            "Building prefix dict from the default dictionary ...\n",
            "DEBUG:jieba:Building prefix dict from the default dictionary ...\n",
            "Dumping model to file cache /tmp/jieba.cache\n",
            "DEBUG:jieba:Dumping model to file cache /tmp/jieba.cache\n",
            "Loading model cost 1.747 seconds.\n",
            "DEBUG:jieba:Loading model cost 1.747 seconds.\n",
            "Prefix dict has been built successfully.\n",
            "DEBUG:jieba:Prefix dict has been built successfully.\n"
          ]
        },
        {
          "output_type": "stream",
          "name": "stdout",
          "text": [
            "摘要：\n",
            "失恋是一件很痛苦的事情，我能理解你现在的情绪 好的，你最近有什么情绪问题吗 "
          ]
        }
      ]
    }
  ]
}
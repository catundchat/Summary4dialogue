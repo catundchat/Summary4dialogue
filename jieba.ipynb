{
  "nbformat": 4,
  "nbformat_minor": 0,
  "metadata": {
    "colab": {
      "provenance": [],
      "authorship_tag": "ABX9TyOVBOLEAQXGgFSAwx8+L6Yz",
      "include_colab_link": true
    },
    "kernelspec": {
      "name": "python3",
      "display_name": "Python 3"
    },
    "language_info": {
      "name": "python"
    }
  },
  "cells": [
    {
      "cell_type": "markdown",
      "metadata": {
        "id": "view-in-github",
        "colab_type": "text"
      },
      "source": [
        "<a href=\"https://colab.research.google.com/github/catundchat/Summary4dialogue/blob/main/jieba.ipynb\" target=\"_parent\"><img src=\"https://colab.research.google.com/assets/colab-badge.svg\" alt=\"Open In Colab\"/></a>"
      ]
    },
    {
      "cell_type": "code",
      "execution_count": 2,
      "metadata": {
        "colab": {
          "base_uri": "https://localhost:8080/"
        },
        "id": "WGqLAXJ5ZHhq",
        "outputId": "3f17712e-868e-4420-a799-3b524d2b866e"
      },
      "outputs": [
        {
          "output_type": "stream",
          "name": "stdout",
          "text": [
            "Looking in indexes: https://pypi.org/simple, https://us-python.pkg.dev/colab-wheels/public/simple/\n",
            "Requirement already satisfied: jieba in /usr/local/lib/python3.9/dist-packages (0.42.1)\n",
            "Looking in indexes: https://pypi.org/simple, https://us-python.pkg.dev/colab-wheels/public/simple/\n",
            "Requirement already satisfied: networkx in /usr/local/lib/python3.9/dist-packages (3.1)\n"
          ]
        }
      ],
      "source": [
        "!pip install jieba\n",
        "!pip install networkx"
      ]
    },
    {
      "cell_type": "code",
      "source": [
        "import jieba\n",
        "import jieba.analyse\n",
        "import re\n",
        "import networkx as nx\n",
        "import numpy as np\n",
        "\n",
        "def generate_summary_with_textrank(conversation, topK=3):\n",
        "    # 移除对话中的\"A: \" 和 \"B: \"等类似用户、咨询师的标识\n",
        "    conversation_cleaned = re.sub(r\"[A|B]:\\s\", \"\", conversation)\n",
        "    sentences = [s.strip() for s in re.split(r'[。？！]', conversation_cleaned) if s.strip()]\n",
        "    \n",
        "    # 使用jieba进行分词\n",
        "    words_list = [list(jieba.cut(s)) for s in sentences]\n",
        "\n",
        "    # 构建相似度矩阵\n",
        "    sim_matrix = np.zeros((len(sentences), len(sentences)))\n",
        "    for i in range(len(sentences)):\n",
        "        for j in range(len(sentences)):\n",
        "            if i != j:\n",
        "                sim_matrix[i][j] = compute_similarity(words_list[i], words_list[j])\n",
        "\n",
        "    # 使用TextRank算法对句子进行排序\n",
        "    nx_graph = nx.from_numpy_array(sim_matrix)\n",
        "    scores = nx.pagerank(nx_graph)\n",
        "\n",
        "    # 提取摘要\n",
        "    ranked_sentences = sorted(((scores[i], s) for i, s in enumerate(sentences)), reverse=True)\n",
        "    summary = '。'.join([sent for _, sent in ranked_sentences[:topK]])\n",
        "    return summary + '。'\n",
        "\n",
        "def compute_similarity(words1, words2):\n",
        "    words1_set = set(words1)\n",
        "    words2_set = set(words2)\n",
        "    return len(words1_set & words2_set) / (len(words1_set | words2_set) + 1e-6)\n",
        "\n",
        "# 示例对话\n",
        "conversation = '''\n",
        "情绪问题\n",
        "\n",
        "好的，你最近有什么情绪问题吗？比如说，你是否经常感到沮丧、焦虑或者压力很大？\n",
        "\n",
        "控制不住自己情绪怎么办\n",
        "\n",
        "我理解你的感受。控制不住自己的情绪可能会让人感到无助和困惑。我想问一下，你最近有遇到什么事情让你感到情绪失控吗？\n",
        "\n",
        "失恋\n",
        "\n",
        "失恋是一件很痛苦的事情，我能理解你现在的情绪。你可以告诉我更多关于你失恋的情况吗？比如说，你们分手的原因是什么？你现在的情绪是什么样的？\n",
        "'''\n",
        "print()\n",
        "summary = generate_summary_with_textrank(conversation)\n",
        "print(summary)"
      ],
      "metadata": {
        "colab": {
          "base_uri": "https://localhost:8080/"
        },
        "id": "FlNJnhX_ZkDh",
        "outputId": "33679e2e-3a54-4916-ed5f-17ae2de1f68b"
      },
      "execution_count": 3,
      "outputs": [
        {
          "output_type": "stream",
          "name": "stderr",
          "text": [
            "Building prefix dict from the default dictionary ...\n",
            "DEBUG:jieba:Building prefix dict from the default dictionary ...\n"
          ]
        },
        {
          "output_type": "stream",
          "name": "stdout",
          "text": [
            "\n"
          ]
        },
        {
          "output_type": "stream",
          "name": "stderr",
          "text": [
            "Dumping model to file cache /tmp/jieba.cache\n",
            "DEBUG:jieba:Dumping model to file cache /tmp/jieba.cache\n",
            "Loading model cost 0.963 seconds.\n",
            "DEBUG:jieba:Loading model cost 0.963 seconds.\n",
            "Prefix dict has been built successfully.\n",
            "DEBUG:jieba:Prefix dict has been built successfully.\n"
          ]
        },
        {
          "output_type": "stream",
          "name": "stdout",
          "text": [
            "情绪问题\n",
            "\n",
            "好的，你最近有什么情绪问题吗。失恋\n",
            "\n",
            "失恋是一件很痛苦的事情，我能理解你现在的情绪。你现在的情绪是什么样的。\n"
          ]
        }
      ]
    }
  ]
}